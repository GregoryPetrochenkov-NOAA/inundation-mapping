{
 "cells": [
  {
   "cell_type": "code",
   "execution_count": null,
   "id": "7915a043",
   "metadata": {},
   "outputs": [],
   "source": [
    "import os\n",
    "\n",
    "import numpy as np\n",
    "import xarray as xr\n",
    "import rioxarray as rxr\n",
    "\n",
    "import gval\n",
    "\n",
    "from mosaic_inundation import Mosaic_inundation\n",
    "from inundate_gms import Inundate_gms"
   ]
  },
  {
   "cell_type": "code",
   "execution_count": null,
   "id": "53d664fa",
   "metadata": {},
   "outputs": [],
   "source": [
    "fim_dir = '/outputs/12020001'\n",
    "benchmark_flows = f'{fim_dir}/ble_huc_12020001_flows_500yr.csv'\n",
    "gms_workers = 1\n",
    "huc = ['12020001']\n",
    "predicted_raster_path = '/outputs/inundation.tif'\n",
    "verbose = False\n",
    "log_file = f'{fim_dir}/gms.log'\n",
    "elev_raster_ndv = -9999\n",
    "map_file = Inundate_gms(hydrofabric_dir=os.path.dirname(fim_dir),\n",
    "                        forecast=benchmark_flows,\n",
    "                        num_workers=gms_workers,\n",
    "                        hucs=huc,\n",
    "                        inundation_raster=predicted_raster_path,\n",
    "                        inundation_polygon=None,\n",
    "                        depths_raster=None,\n",
    "                        verbose=verbose,\n",
    "                        log_file=log_file,\n",
    "                        output_fileNames=None)\n",
    "\n",
    "mosaic_raster = Mosaic_inundation(map_file,\n",
    "                                    mosaic_attribute='inundation_rasters',\n",
    "                                    mosaic_output=predicted_raster_path,\n",
    "                                    mask=os.path.join(fim_dir, 'wbd.gpkg'),\n",
    "                                    unit_attribute_name='huc8',\n",
    "                                    nodata=elev_raster_ndv,\n",
    "                                    workers=1,\n",
    "                                    remove_inputs=True,\n",
    "                                    subset=None,\n",
    "                                    verbose=verbose)"
   ]
  },
  {
   "cell_type": "code",
   "execution_count": null,
   "id": "586eb528",
   "metadata": {},
   "outputs": [],
   "source": [
    "candidate = rxr.open_rasterio(mosaic_raster, mask_and_scale=True)\n",
    "benchmark = rxr.open_rasterio('/outputs/ble_huc_12020001_extent_500yr.tif', mask_and_scale=True)"
   ]
  },
  {
   "cell_type": "code",
   "execution_count": null,
   "id": "b513667e",
   "metadata": {},
   "outputs": [],
   "source": [
    "candidate.data = xr.where(candidate < 0, 0, candidate)\n",
    "candidate.data = xr.where(candidate > 0, 1, candidate)"
   ]
  },
  {
   "cell_type": "code",
   "execution_count": null,
   "id": "79f68239",
   "metadata": {},
   "outputs": [],
   "source": [
    "target_map, cross_tab, metric_df = candidate.gval.categorical_compare(benchmark,\n",
    "                                                                      positive_categories=[1],\n",
    "                                                                      negative_categories=[0])"
   ]
  },
  {
   "cell_type": "code",
   "execution_count": null,
   "id": "d2bf19b5",
   "metadata": {},
   "outputs": [],
   "source": [
    "target_map.plot()"
   ]
  },
  {
   "cell_type": "code",
   "execution_count": null,
   "id": "2344d6ee",
   "metadata": {},
   "outputs": [],
   "source": [
    "cross_tab"
   ]
  },
  {
   "cell_type": "code",
   "execution_count": null,
   "id": "36d5b224",
   "metadata": {},
   "outputs": [],
   "source": [
    "metric_df"
   ]
  }
 ],
 "metadata": {
  "kernelspec": {
   "display_name": "Python 3 (ipykernel)",
   "language": "python",
   "name": "python3"
  },
  "language_info": {
   "codemirror_mode": {
    "name": "ipython",
    "version": 3
   },
   "file_extension": ".py",
   "mimetype": "text/x-python",
   "name": "python",
   "nbconvert_exporter": "python",
   "pygments_lexer": "ipython3",
   "version": "3.8.16"
  }
 },
 "nbformat": 4,
 "nbformat_minor": 5
}
