{
 "cells": [
  {
   "cell_type": "code",
   "execution_count": 2,
   "id": "7915a043",
   "metadata": {},
   "outputs": [],
   "source": [
    "import os\n",
    "\n",
    "import numpy as np\n",
    "import xarray as xr\n",
    "import rioxarray as rxr\n",
    "import geopandas as gpd\n",
    "import pandas as pd\n",
    "import gval\n",
    "\n",
    "from mosaic_inundation import Mosaic_inundation\n",
    "from inundate_gms import Inundate_gms"
   ]
  },
  {
   "cell_type": "code",
   "execution_count": 3,
   "id": "bbb00e2c",
   "metadata": {},
   "outputs": [],
   "source": [
    "hucs = ['12020001']\n",
    "\n",
    "base_dir = '/foss_fim'\n",
    "outputs_dir = os.path.join(base_dir,'outputs')\n",
    "hydrofabric_dir = os.path.join(outputs_dir, 'fim_4_3_3_4') \n",
    "\n",
    "predicted_raster_path = os.path.join(outputs_dir,'inundation.tif')"
   ]
  },
  {
   "cell_type": "code",
   "execution_count": 4,
   "id": "3d5fbc4e",
   "metadata": {},
   "outputs": [
    {
     "data": {
      "text/html": [
       "<div>\n",
       "<style scoped>\n",
       "    .dataframe tbody tr th:only-of-type {\n",
       "        vertical-align: middle;\n",
       "    }\n",
       "\n",
       "    .dataframe tbody tr th {\n",
       "        vertical-align: top;\n",
       "    }\n",
       "\n",
       "    .dataframe thead th {\n",
       "        text-align: right;\n",
       "    }\n",
       "</style>\n",
       "<table border=\"1\" class=\"dataframe\">\n",
       "  <thead>\n",
       "    <tr style=\"text-align: right;\">\n",
       "      <th></th>\n",
       "      <th>feature_id</th>\n",
       "      <th>discharge</th>\n",
       "    </tr>\n",
       "  </thead>\n",
       "  <tbody>\n",
       "    <tr>\n",
       "      <th>0</th>\n",
       "      <td>1077621</td>\n",
       "      <td>1471.350711</td>\n",
       "    </tr>\n",
       "    <tr>\n",
       "      <th>1</th>\n",
       "      <td>1077623</td>\n",
       "      <td>1471.326076</td>\n",
       "    </tr>\n",
       "    <tr>\n",
       "      <th>2</th>\n",
       "      <td>1077625</td>\n",
       "      <td>1471.359773</td>\n",
       "    </tr>\n",
       "    <tr>\n",
       "      <th>3</th>\n",
       "      <td>1077643</td>\n",
       "      <td>1471.259531</td>\n",
       "    </tr>\n",
       "    <tr>\n",
       "      <th>4</th>\n",
       "      <td>4450864</td>\n",
       "      <td>18.868081</td>\n",
       "    </tr>\n",
       "    <tr>\n",
       "      <th>...</th>\n",
       "      <td>...</td>\n",
       "      <td>...</td>\n",
       "    </tr>\n",
       "    <tr>\n",
       "      <th>1177</th>\n",
       "      <td>4454480</td>\n",
       "      <td>60.251170</td>\n",
       "    </tr>\n",
       "    <tr>\n",
       "      <th>1178</th>\n",
       "      <td>4456676</td>\n",
       "      <td>97.672166</td>\n",
       "    </tr>\n",
       "    <tr>\n",
       "      <th>1179</th>\n",
       "      <td>4456680</td>\n",
       "      <td>202.475506</td>\n",
       "    </tr>\n",
       "    <tr>\n",
       "      <th>1180</th>\n",
       "      <td>4456682</td>\n",
       "      <td>748.358754</td>\n",
       "    </tr>\n",
       "    <tr>\n",
       "      <th>1181</th>\n",
       "      <td>24599208</td>\n",
       "      <td>48.420392</td>\n",
       "    </tr>\n",
       "  </tbody>\n",
       "</table>\n",
       "<p>1182 rows × 2 columns</p>\n",
       "</div>"
      ],
      "text/plain": [
       "      feature_id    discharge\n",
       "0        1077621  1471.350711\n",
       "1        1077623  1471.326076\n",
       "2        1077625  1471.359773\n",
       "3        1077643  1471.259531\n",
       "4        4450864    18.868081\n",
       "...          ...          ...\n",
       "1177     4454480    60.251170\n",
       "1178     4456676    97.672166\n",
       "1179     4456680   202.475506\n",
       "1180     4456682   748.358754\n",
       "1181    24599208    48.420392\n",
       "\n",
       "[1182 rows x 2 columns]"
      ]
     },
     "execution_count": 4,
     "metadata": {},
     "output_type": "execute_result"
    }
   ],
   "source": [
    "benchmark_flows = os.path.join(outputs_dir, 'ble_huc_12020001_flows_500yr.csv')\n",
    "pd.read_csv(benchmark_flows)"
   ]
  },
  {
   "cell_type": "code",
   "execution_count": 5,
   "id": "3b8c19ff",
   "metadata": {
    "scrolled": true
   },
   "outputs": [
    {
     "data": {
      "text/plain": [
       "<Axes: >"
      ]
     },
     "execution_count": 5,
     "metadata": {},
     "output_type": "execute_result"
    },
    {
     "data": {
      "image/png": "[encoded data removed]",
      "text/plain": [
       "<Figure size 640x480 with 1 Axes>"
      ]
     },
     "metadata": {},
     "output_type": "display_data"
    }
   ],
   "source": [
    "mask = os.path.join(hydrofabric_dir, hucs[0], 'wbd.gpkg')\n",
    "gpd.read_file(mask).plot()"
   ]
  },
  {
   "cell_type": "code",
   "execution_count": 6,
   "id": "53d664fa",
   "metadata": {},
   "outputs": [
    {
     "data": {
      "text/html": [
       "<div>\n",
       "<style scoped>\n",
       "    .dataframe tbody tr th:only-of-type {\n",
       "        vertical-align: middle;\n",
       "    }\n",
       "\n",
       "    .dataframe tbody tr th {\n",
       "        vertical-align: top;\n",
       "    }\n",
       "\n",
       "    .dataframe thead th {\n",
       "        text-align: right;\n",
       "    }\n",
       "</style>\n",
       "<table border=\"1\" class=\"dataframe\">\n",
       "  <thead>\n",
       "    <tr style=\"text-align: right;\">\n",
       "      <th></th>\n",
       "      <th>huc8</th>\n",
       "      <th>branchID</th>\n",
       "      <th>inundation_rasters</th>\n",
       "      <th>depths_rasters</th>\n",
       "      <th>inundation_polygons</th>\n",
       "    </tr>\n",
       "  </thead>\n",
       "  <tbody>\n",
       "    <tr>\n",
       "      <th>0</th>\n",
       "      <td>12020001</td>\n",
       "      <td>0</td>\n",
       "      <td>/foss_fim/outputs/inundation_12020001_0.tif</td>\n",
       "      <td>None</td>\n",
       "      <td>None</td>\n",
       "    </tr>\n",
       "    <tr>\n",
       "      <th>1</th>\n",
       "      <td>12020001</td>\n",
       "      <td>1077000002</td>\n",
       "      <td>/foss_fim/outputs/inundation_12020001_10770000...</td>\n",
       "      <td>None</td>\n",
       "      <td>None</td>\n",
       "    </tr>\n",
       "    <tr>\n",
       "      <th>2</th>\n",
       "      <td>12020001</td>\n",
       "      <td>1077000003</td>\n",
       "      <td>/foss_fim/outputs/inundation_12020001_10770000...</td>\n",
       "      <td>None</td>\n",
       "      <td>None</td>\n",
       "    </tr>\n",
       "    <tr>\n",
       "      <th>3</th>\n",
       "      <td>12020001</td>\n",
       "      <td>1077000004</td>\n",
       "      <td>/foss_fim/outputs/inundation_12020001_10770000...</td>\n",
       "      <td>None</td>\n",
       "      <td>None</td>\n",
       "    </tr>\n",
       "    <tr>\n",
       "      <th>4</th>\n",
       "      <td>12020001</td>\n",
       "      <td>1077000005</td>\n",
       "      <td>/foss_fim/outputs/inundation_12020001_10770000...</td>\n",
       "      <td>None</td>\n",
       "      <td>None</td>\n",
       "    </tr>\n",
       "    <tr>\n",
       "      <th>5</th>\n",
       "      <td>12020001</td>\n",
       "      <td>1077000006</td>\n",
       "      <td>/foss_fim/outputs/inundation_12020001_10770000...</td>\n",
       "      <td>None</td>\n",
       "      <td>None</td>\n",
       "    </tr>\n",
       "    <tr>\n",
       "      <th>6</th>\n",
       "      <td>12020001</td>\n",
       "      <td>1077000007</td>\n",
       "      <td>/foss_fim/outputs/inundation_12020001_10770000...</td>\n",
       "      <td>None</td>\n",
       "      <td>None</td>\n",
       "    </tr>\n",
       "    <tr>\n",
       "      <th>7</th>\n",
       "      <td>12020001</td>\n",
       "      <td>1077000001</td>\n",
       "      <td>/foss_fim/outputs/inundation_12020001_10770000...</td>\n",
       "      <td>None</td>\n",
       "      <td>None</td>\n",
       "    </tr>\n",
       "    <tr>\n",
       "      <th>8</th>\n",
       "      <td>12020001</td>\n",
       "      <td>1077000008</td>\n",
       "      <td>/foss_fim/outputs/inundation_12020001_10770000...</td>\n",
       "      <td>None</td>\n",
       "      <td>None</td>\n",
       "    </tr>\n",
       "    <tr>\n",
       "      <th>9</th>\n",
       "      <td>12020001</td>\n",
       "      <td>1077000009</td>\n",
       "      <td>/foss_fim/outputs/inundation_12020001_10770000...</td>\n",
       "      <td>None</td>\n",
       "      <td>None</td>\n",
       "    </tr>\n",
       "    <tr>\n",
       "      <th>10</th>\n",
       "      <td>12020001</td>\n",
       "      <td>1077000010</td>\n",
       "      <td>/foss_fim/outputs/inundation_12020001_10770000...</td>\n",
       "      <td>None</td>\n",
       "      <td>None</td>\n",
       "    </tr>\n",
       "    <tr>\n",
       "      <th>11</th>\n",
       "      <td>12020001</td>\n",
       "      <td>1077000011</td>\n",
       "      <td>/foss_fim/outputs/inundation_12020001_10770000...</td>\n",
       "      <td>None</td>\n",
       "      <td>None</td>\n",
       "    </tr>\n",
       "    <tr>\n",
       "      <th>12</th>\n",
       "      <td>12020001</td>\n",
       "      <td>1077000012</td>\n",
       "      <td>/foss_fim/outputs/inundation_12020001_10770000...</td>\n",
       "      <td>None</td>\n",
       "      <td>None</td>\n",
       "    </tr>\n",
       "    <tr>\n",
       "      <th>13</th>\n",
       "      <td>12020001</td>\n",
       "      <td>1077000013</td>\n",
       "      <td>/foss_fim/outputs/inundation_12020001_10770000...</td>\n",
       "      <td>None</td>\n",
       "      <td>None</td>\n",
       "    </tr>\n",
       "    <tr>\n",
       "      <th>14</th>\n",
       "      <td>12020001</td>\n",
       "      <td>1077000014</td>\n",
       "      <td>/foss_fim/outputs/inundation_12020001_10770000...</td>\n",
       "      <td>None</td>\n",
       "      <td>None</td>\n",
       "    </tr>\n",
       "    <tr>\n",
       "      <th>15</th>\n",
       "      <td>12020001</td>\n",
       "      <td>1077000015</td>\n",
       "      <td>/foss_fim/outputs/inundation_12020001_10770000...</td>\n",
       "      <td>None</td>\n",
       "      <td>None</td>\n",
       "    </tr>\n",
       "    <tr>\n",
       "      <th>16</th>\n",
       "      <td>12020001</td>\n",
       "      <td>1077000016</td>\n",
       "      <td>/foss_fim/outputs/inundation_12020001_10770000...</td>\n",
       "      <td>None</td>\n",
       "      <td>None</td>\n",
       "    </tr>\n",
       "    <tr>\n",
       "      <th>17</th>\n",
       "      <td>12020001</td>\n",
       "      <td>1077000017</td>\n",
       "      <td>/foss_fim/outputs/inundation_12020001_10770000...</td>\n",
       "      <td>None</td>\n",
       "      <td>None</td>\n",
       "    </tr>\n",
       "    <tr>\n",
       "      <th>18</th>\n",
       "      <td>12020001</td>\n",
       "      <td>1077000018</td>\n",
       "      <td>/foss_fim/outputs/inundation_12020001_10770000...</td>\n",
       "      <td>None</td>\n",
       "      <td>None</td>\n",
       "    </tr>\n",
       "    <tr>\n",
       "      <th>19</th>\n",
       "      <td>12020001</td>\n",
       "      <td>1077000019</td>\n",
       "      <td>/foss_fim/outputs/inundation_12020001_10770000...</td>\n",
       "      <td>None</td>\n",
       "      <td>None</td>\n",
       "    </tr>\n",
       "    <tr>\n",
       "      <th>20</th>\n",
       "      <td>12020001</td>\n",
       "      <td>1077000020</td>\n",
       "      <td>/foss_fim/outputs/inundation_12020001_10770000...</td>\n",
       "      <td>None</td>\n",
       "      <td>None</td>\n",
       "    </tr>\n",
       "  </tbody>\n",
       "</table>\n",
       "</div>"
      ],
      "text/plain": [
       "        huc8    branchID                                 inundation_rasters  \\\n",
       "0   12020001           0        /foss_fim/outputs/inundation_12020001_0.tif   \n",
       "1   12020001  1077000002  /foss_fim/outputs/inundation_12020001_10770000...   \n",
       "2   12020001  1077000003  /foss_fim/outputs/inundation_12020001_10770000...   \n",
       "3   12020001  1077000004  /foss_fim/outputs/inundation_12020001_10770000...   \n",
       "4   12020001  1077000005  /foss_fim/outputs/inundation_12020001_10770000...   \n",
       "5   12020001  1077000006  /foss_fim/outputs/inundation_12020001_10770000...   \n",
       "6   12020001  1077000007  /foss_fim/outputs/inundation_12020001_10770000...   \n",
       "7   12020001  1077000001  /foss_fim/outputs/inundation_12020001_10770000...   \n",
       "8   12020001  1077000008  /foss_fim/outputs/inundation_12020001_10770000...   \n",
       "9   12020001  1077000009  /foss_fim/outputs/inundation_12020001_10770000...   \n",
       "10  12020001  1077000010  /foss_fim/outputs/inundation_12020001_10770000...   \n",
       "11  12020001  1077000011  /foss_fim/outputs/inundation_12020001_10770000...   \n",
       "12  12020001  1077000012  /foss_fim/outputs/inundation_12020001_10770000...   \n",
       "13  12020001  1077000013  /foss_fim/outputs/inundation_12020001_10770000...   \n",
       "14  12020001  1077000014  /foss_fim/outputs/inundation_12020001_10770000...   \n",
       "15  12020001  1077000015  /foss_fim/outputs/inundation_12020001_10770000...   \n",
       "16  12020001  1077000016  /foss_fim/outputs/inundation_12020001_10770000...   \n",
       "17  12020001  1077000017  /foss_fim/outputs/inundation_12020001_10770000...   \n",
       "18  12020001  1077000018  /foss_fim/outputs/inundation_12020001_10770000...   \n",
       "19  12020001  1077000019  /foss_fim/outputs/inundation_12020001_10770000...   \n",
       "20  12020001  1077000020  /foss_fim/outputs/inundation_12020001_10770000...   \n",
       "\n",
       "   depths_rasters inundation_polygons  \n",
       "0            None                None  \n",
       "1            None                None  \n",
       "2            None                None  \n",
       "3            None                None  \n",
       "4            None                None  \n",
       "5            None                None  \n",
       "6            None                None  \n",
       "7            None                None  \n",
       "8            None                None  \n",
       "9            None                None  \n",
       "10           None                None  \n",
       "11           None                None  \n",
       "12           None                None  \n",
       "13           None                None  \n",
       "14           None                None  \n",
       "15           None                None  \n",
       "16           None                None  \n",
       "17           None                None  \n",
       "18           None                None  \n",
       "19           None                None  \n",
       "20           None                None  "
      ]
     },
     "execution_count": 6,
     "metadata": {},
     "output_type": "execute_result"
    }
   ],
   "source": [
    "map_file = Inundate_gms(hydrofabric_dir=hydrofabric_dir,\n",
    "                        forecast=benchmark_flows,\n",
    "                        hucs=hucs,\n",
    "                        inundation_raster=predicted_raster_path)\n",
    "map_file"
   ]
  },
  {
   "cell_type": "code",
   "execution_count": 7,
   "id": "b32bc828",
   "metadata": {},
   "outputs": [
    {
     "name": "stderr",
     "output_type": "stream",
     "text": [
      "\r",
      "Mosaicing FIMs:   0%|          | 0/1 [00:00<?, ?it/s]"
     ]
    },
    {
     "name": "stdout",
     "output_type": "stream",
     "text": [
      "... Masking ...\n"
     ]
    },
    {
     "name": "stderr",
     "output_type": "stream",
     "text": [
      "Mosaicing FIMs: 100%|██████████| 1/1 [00:10<00:00, 10.46s/it]\n"
     ]
    },
    {
     "data": {
      "text/plain": [
       "'/foss_fim/outputs/inundation.tif'"
      ]
     },
     "execution_count": 7,
     "metadata": {},
     "output_type": "execute_result"
    }
   ],
   "source": [
    "Mosaic_inundation(map_file,\n",
    "                  mosaic_attribute='inundation_rasters',\n",
    "                  mosaic_output=predicted_raster_path,\n",
    "                  mask=mask,\n",
    "                  unit_attribute_name='huc8')"
   ]
  },
  {
   "cell_type": "code",
   "execution_count": 8,
   "id": "586eb528",
   "metadata": {},
   "outputs": [],
   "source": [
    "candidate = rxr.open_rasterio(predicted_raster_path, mask_and_scale=True)\n",
    "benchmark = rxr.open_rasterio(os.path.join(outputs_dir,'ble_huc_12020001_extent_500yr.tif'), mask_and_scale=True)"
   ]
  },
  {
   "cell_type": "code",
   "execution_count": 9,
   "id": "b513667e",
   "metadata": {},
   "outputs": [],
   "source": [
    "candidate.data = xr.where(candidate < 0, 0, candidate)\n",
    "candidate.data = xr.where(candidate > 0, 1, candidate)"
   ]
  },
  {
   "cell_type": "code",
   "execution_count": null,
   "id": "0670200b",
   "metadata": {},
   "outputs": [
    {
     "data": {
      "text/plain": [
       "<matplotlib.collections.QuadMesh at 0xffff202c3cd0>"
      ]
     },
     "execution_count": 10,
     "metadata": {},
     "output_type": "execute_result"
    }
   ],
   "source": [
    "candidate.plot()"
   ]
  },
  {
   "cell_type": "code",
   "execution_count": 9,
   "id": "79f68239",
   "metadata": {},
   "outputs": [],
   "source": [
    "agreement_map, cross_tab, metric_df = candidate.gval.categorical_compare(benchmark,\n",
    "                                                                      positive_categories=[1],\n",
    "                                                                      negative_categories=[0])"
   ]
  },
  {
   "cell_type": "code",
   "execution_count": 1,
   "id": "1af9f98c",
   "metadata": {},
   "outputs": [
    {
     "ename": "NameError",
     "evalue": "name 'candidate' is not defined",
     "output_type": "error",
     "traceback": [
      "\u001b[0;31m---------------------------------------------------------------------------\u001b[0m",
      "\u001b[0;31mNameError\u001b[0m                                 Traceback (most recent call last)",
      "Cell \u001b[0;32mIn[1], line 1\u001b[0m\n\u001b[0;32m----> 1\u001b[0m \u001b[38;5;28;01mdel\u001b[39;00m candidate, benchmark\n",
      "\u001b[0;31mNameError\u001b[0m: name 'candidate' is not defined"
     ]
    }
   ],
   "source": [
    "del candidate, benchmark\n",
    "import gc\n",
    "gc.collect()"
   ]
  },
  {
   "cell_type": "code",
   "execution_count": null,
   "id": "d2bf19b5",
   "metadata": {},
   "outputs": [],
   "source": [
    "agreement_map.plot()"
   ]
  },
  {
   "cell_type": "code",
   "execution_count": null,
   "id": "2344d6ee",
   "metadata": {},
   "outputs": [],
   "source": [
    "cross_tab"
   ]
  },
  {
   "cell_type": "code",
   "execution_count": null,
   "id": "36d5b224",
   "metadata": {},
   "outputs": [],
   "source": [
    "metric_df"
   ]
  }
 ],
 "metadata": {
  "kernelspec": {
   "display_name": "Python 3 (ipykernel)",
   "language": "python",
   "name": "python3"
  },
  "language_info": {
   "codemirror_mode": {
    "name": "ipython",
    "version": 3
   },
   "file_extension": ".py",
   "mimetype": "text/x-python",
   "name": "python",
   "nbconvert_exporter": "python",
   "pygments_lexer": "ipython3",
   "version": "3.8.10"
  }
 },
 "nbformat": 4,
 "nbformat_minor": 5
}
